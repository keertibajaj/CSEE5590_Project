{
 "cells": [
  {
   "cell_type": "code",
   "execution_count": 1,
   "metadata": {
    "colab": {
     "base_uri": "https://localhost:8080/"
    },
    "id": "ZgsFn8-LH0vU",
    "outputId": "48627242-3783-4fdf-cfaf-e7e2ab891e95"
   },
   "outputs": [],
   "source": [
    "#from google.colab import drive\n",
    "#drive.mount('/content/gdrive', force_remount=True)\n",
    "#root_dir = \"/content/gdrive/My Drive/\"\n",
    "path = './'"
   ]
  },
  {
   "cell_type": "code",
   "execution_count": 2,
   "metadata": {
    "colab": {
     "base_uri": "https://localhost:8080/"
    },
    "id": "gNrfrCYRH6A9",
    "outputId": "3ac47563-12cb-4d48-ec29-39579ef001d6"
   },
   "outputs": [],
   "source": [
    "#cd /content/gdrive/MyDrive/Colab_Notebooks/CSEE5590_DeepLearning/"
   ]
  },
  {
   "cell_type": "code",
   "execution_count": 3,
   "metadata": {
    "id": "AH9gHAH7IKuW"
   },
   "outputs": [
    {
     "name": "stderr",
     "output_type": "stream",
     "text": [
      "Using TensorFlow backend.\n"
     ]
    }
   ],
   "source": [
    "import tensorflow\n",
    "import cv2\n",
    "import os\n",
    "import numpy as np\n",
    "from matplotlib import pyplot as plt\n",
    "\n",
    "from sklearn.model_selection import train_test_split\n",
    "\n",
    "from keras.utils import np_utils\n",
    "from keras.models import Sequential\n",
    "from keras.layers import Dense,Activation,Flatten,Dropout\n",
    "from keras.layers import Conv2D,MaxPooling2D\n",
    "from keras.callbacks import ModelCheckpoint"
   ]
  },
  {
   "cell_type": "code",
   "execution_count": 4,
   "metadata": {
    "colab": {
     "base_uri": "https://localhost:8080/"
    },
    "id": "3e4Gg7YLITV_",
    "outputId": "5098b9e5-3e6c-49db-893e-ded23f29509d"
   },
   "outputs": [
    {
     "name": "stdout",
     "output_type": "stream",
     "text": [
      "{'happy': 0, 'sad': 1, 'fear': 2, 'surprise': 3, 'neutral': 4, 'angry': 5, 'disgust': 6}\n",
      "['happy', 'sad', 'fear', 'surprise', 'neutral', 'angry', 'disgust']\n",
      "[0, 1, 2, 3, 4, 5, 6]\n"
     ]
    }
   ],
   "source": [
    "data_path = path+'images/train'\n",
    "categories = os.listdir(data_path)\n",
    "labels = [i for i in range(len(categories))]\n",
    "\n",
    "label_dict = dict(zip(categories,labels)) #empty dictionary\n",
    "print(label_dict)\n",
    "print(categories)\n",
    "print(labels)"
   ]
  },
  {
   "cell_type": "code",
   "execution_count": 5,
   "metadata": {
    "id": "h6T7n7HxIj_M"
   },
   "outputs": [],
   "source": [
    "imsize=100\n",
    "data=[]\n",
    "target=[]\n",
    "\n",
    "for category in categories:\n",
    "    folder_path=os.path.join(data_path,category)\n",
    "    imnames = os.listdir(folder_path)\n",
    "        \n",
    "    for imname in imnames:\n",
    "        impath=os.path.join(folder_path,imname)\n",
    "        img=cv2.imread(impath)\n",
    "\n",
    "        try:  \n",
    "            resized=cv2.resize(img,(imsize,imsize))\n",
    "            #resizing the image  into 100x100, since we need a fixed common size for all the images in the dataset\n",
    "            data.append(resized)\n",
    "            target.append(label_dict[category])\n",
    "            #appending the image and the label(categorized) into the list (dataset)\n",
    "        except Exception as e:\n",
    "            print('Exception:',e)\n",
    "            #if any exception rasied, the exception will be printed here. And pass to the next image"
   ]
  },
  {
   "cell_type": "code",
   "execution_count": 6,
   "metadata": {
    "id": "GdcsLgj3I4lA"
   },
   "outputs": [],
   "source": [
    "data = np.array(data)/255.0\n",
    "data = np.reshape(data,(data.shape[0], imsize, imsize,3))\n",
    "target = np.array(target)\n",
    "\n",
    "new_target = np_utils.to_categorical(target)"
   ]
  },
  {
   "cell_type": "code",
   "execution_count": 7,
   "metadata": {
    "colab": {
     "base_uri": "https://localhost:8080/"
    },
    "id": "anxDiPZ0JI2U",
    "outputId": "e47c2816-a39f-4f6f-bba4-b21bb1936355"
   },
   "outputs": [
    {
     "data": {
      "text/plain": [
       "(28821, 7)"
      ]
     },
     "execution_count": 7,
     "metadata": {},
     "output_type": "execute_result"
    }
   ],
   "source": [
    "new_target.shape"
   ]
  },
  {
   "cell_type": "code",
   "execution_count": 8,
   "metadata": {
    "colab": {
     "base_uri": "https://localhost:8080/"
    },
    "id": "q_-Q6vISJQcf",
    "outputId": "47fb808f-59f8-48d8-ecb2-fce48a73e615"
   },
   "outputs": [
    {
     "data": {
      "text/plain": [
       "(28821, 100, 100, 3)"
      ]
     },
     "execution_count": 8,
     "metadata": {},
     "output_type": "execute_result"
    }
   ],
   "source": [
    "data.shape"
   ]
  },
  {
   "cell_type": "code",
   "execution_count": 18,
   "metadata": {},
   "outputs": [
    {
     "name": "stdout",
     "output_type": "stream",
     "text": [
      "[1. 0. 0. 0. 0. 0. 0.]\n"
     ]
    }
   ],
   "source": [
    "print(new_target[1])"
   ]
  },
  {
   "cell_type": "code",
   "execution_count": 9,
   "metadata": {
    "id": "EtU6BfBQJPpi"
   },
   "outputs": [
    {
     "name": "stderr",
     "output_type": "stream",
     "text": [
      "2021-12-12 01:14:28.894859: I tensorflow/core/platform/cpu_feature_guard.cc:145] This TensorFlow binary is optimized with Intel(R) MKL-DNN to use the following CPU instructions in performance critical operations:  SSE4.1 SSE4.2 AVX AVX2 FMA\n",
      "To enable them in non-MKL-DNN operations, rebuild TensorFlow with the appropriate compiler flags.\n",
      "2021-12-12 01:14:28.897354: I tensorflow/core/common_runtime/process_util.cc:115] Creating new thread pool with default inter op setting: 4. Tune using inter_op_parallelism_threads for best performance.\n"
     ]
    }
   ],
   "source": [
    "model=Sequential()\n",
    "\n",
    "model.add(Conv2D(200,(3,3),input_shape=data.shape[1:]))\n",
    "model.add(Activation('relu'))\n",
    "model.add(MaxPooling2D(pool_size=(2,2)))\n",
    "#The first CNN layer followed by Relu and MaxPooling layers\n",
    "\n",
    "model.add(Conv2D(100,(3,3)))\n",
    "model.add(Activation('relu'))\n",
    "model.add(MaxPooling2D(pool_size=(2,2)))\n",
    "#The second convolution layer followed by Relu and MaxPooling layers\n",
    "\n",
    "model.add(Flatten())\n",
    "model.add(Dropout(0.5))\n",
    "#Flatten layer to stack the output convolutions from second convolution layer\n",
    "model.add(Dense(50,activation='relu'))\n",
    "#Dense layer of 64 neurons\n",
    "model.add(Dense(7,activation='softmax'))\n",
    "#The Final layer with two outputs for two categories"
   ]
  },
  {
   "cell_type": "code",
   "execution_count": 10,
   "metadata": {
    "colab": {
     "base_uri": "https://localhost:8080/"
    },
    "id": "afKuZPUsJTrR",
    "outputId": "59a64f09-f9f5-493e-f860-cd3c19178e52"
   },
   "outputs": [
    {
     "name": "stdout",
     "output_type": "stream",
     "text": [
      "Model: \"sequential_1\"\n",
      "_________________________________________________________________\n",
      "Layer (type)                 Output Shape              Param #   \n",
      "=================================================================\n",
      "conv2d_1 (Conv2D)            (None, 98, 98, 200)       5600      \n",
      "_________________________________________________________________\n",
      "activation_1 (Activation)    (None, 98, 98, 200)       0         \n",
      "_________________________________________________________________\n",
      "max_pooling2d_1 (MaxPooling2 (None, 49, 49, 200)       0         \n",
      "_________________________________________________________________\n",
      "conv2d_2 (Conv2D)            (None, 47, 47, 100)       180100    \n",
      "_________________________________________________________________\n",
      "activation_2 (Activation)    (None, 47, 47, 100)       0         \n",
      "_________________________________________________________________\n",
      "max_pooling2d_2 (MaxPooling2 (None, 23, 23, 100)       0         \n",
      "_________________________________________________________________\n",
      "flatten_1 (Flatten)          (None, 52900)             0         \n",
      "_________________________________________________________________\n",
      "dropout_1 (Dropout)          (None, 52900)             0         \n",
      "_________________________________________________________________\n",
      "dense_1 (Dense)              (None, 50)                2645050   \n",
      "_________________________________________________________________\n",
      "dense_2 (Dense)              (None, 7)                 357       \n",
      "=================================================================\n",
      "Total params: 2,831,107\n",
      "Trainable params: 2,831,107\n",
      "Non-trainable params: 0\n",
      "_________________________________________________________________\n"
     ]
    }
   ],
   "source": [
    "model.summary()"
   ]
  },
  {
   "cell_type": "code",
   "execution_count": 11,
   "metadata": {
    "id": "UAgSebpoJVt5"
   },
   "outputs": [],
   "source": [
    "train_data, test_data, train_target, test_target = train_test_split(data, new_target, test_size=0.1)"
   ]
  },
  {
   "cell_type": "code",
   "execution_count": 19,
   "metadata": {},
   "outputs": [],
   "source": [
    "from keras.optimizers import Adam\n",
    "# define number of epochs for training\n",
    "epoch = 30\n",
    "# learning rate of the model\n",
    "lrate = 0.001\n",
    "# optimizer for the model\n",
    "adam = Adam(learning_rate=lrate)\n",
    "# compile model and define its parameters\n",
    "model.compile(loss='categorical_crossentropy', optimizer = adam, metrics=['accuracy'])"
   ]
  },
  {
   "cell_type": "code",
   "execution_count": 20,
   "metadata": {},
   "outputs": [],
   "source": [
    "from keras.callbacks import Callback, EarlyStopping, ReduceLROnPlateau\n",
    "\n",
    "# using callback\n",
    "early_stopping = EarlyStopping(\n",
    "    monitor='val_accuracy',\n",
    "    min_delta=0.00005,\n",
    "    patience=11,\n",
    "    verbose=1,\n",
    "    restore_best_weights=True,\n",
    ")\n",
    "\n",
    "lr_scheduler = ReduceLROnPlateau(\n",
    "    monitor='val_accuracy',\n",
    "    factor=0.5,\n",
    "    patience=7,\n",
    "    min_lr=1e-7,\n",
    "    verbose=1,\n",
    ")\n",
    "\n",
    "callbacks = [\n",
    "    early_stopping,\n",
    "    lr_scheduler,\n",
    "]"
   ]
  },
  {
   "cell_type": "code",
   "execution_count": 21,
   "metadata": {
    "id": "_wstnrbvJfYQ"
   },
   "outputs": [
    {
     "name": "stdout",
     "output_type": "stream",
     "text": [
      "Train on 20750 samples, validate on 5188 samples\n",
      "Epoch 1/30\n",
      "20750/20750 [==============================] - 1988s 96ms/step - loss: 1.7411 - accuracy: 0.2984 - val_loss: 1.6448 - val_accuracy: 0.3549\n",
      "Epoch 2/30\n",
      "20750/20750 [==============================] - 1893s 91ms/step - loss: 1.6209 - accuracy: 0.3670 - val_loss: 1.5871 - val_accuracy: 0.3955\n",
      "Epoch 3/30\n",
      "20750/20750 [==============================] - 2403s 116ms/step - loss: 1.5358 - accuracy: 0.4041 - val_loss: 1.4907 - val_accuracy: 0.4306\n",
      "Epoch 4/30\n",
      "20750/20750 [==============================] - 2655s 128ms/step - loss: 1.4553 - accuracy: 0.4364 - val_loss: 1.4399 - val_accuracy: 0.4510\n",
      "Epoch 5/30\n",
      "20750/20750 [==============================] - 1703s 82ms/step - loss: 1.3913 - accuracy: 0.4642 - val_loss: 1.4140 - val_accuracy: 0.4614\n",
      "Epoch 6/30\n",
      "20750/20750 [==============================] - 1688s 81ms/step - loss: 1.3447 - accuracy: 0.4846 - val_loss: 1.3910 - val_accuracy: 0.4686\n",
      "Epoch 7/30\n",
      "20750/20750 [==============================] - 1653s 80ms/step - loss: 1.3114 - accuracy: 0.4977 - val_loss: 1.3794 - val_accuracy: 0.4705\n",
      "Epoch 8/30\n",
      "20750/20750 [==============================] - 1663s 80ms/step - loss: 1.2807 - accuracy: 0.5106 - val_loss: 1.3625 - val_accuracy: 0.4734\n",
      "Epoch 9/30\n",
      "20750/20750 [==============================] - 1690s 81ms/step - loss: 1.2483 - accuracy: 0.5226 - val_loss: 1.3657 - val_accuracy: 0.4796\n",
      "Epoch 10/30\n",
      "20750/20750 [==============================] - 1664s 80ms/step - loss: 1.2251 - accuracy: 0.5325 - val_loss: 1.3640 - val_accuracy: 0.4807\n",
      "Epoch 11/30\n",
      "20750/20750 [==============================] - 1671s 81ms/step - loss: 1.2030 - accuracy: 0.5446 - val_loss: 1.3534 - val_accuracy: 0.4896\n",
      "Epoch 12/30\n",
      "20750/20750 [==============================] - 1656s 80ms/step - loss: 1.1748 - accuracy: 0.5542 - val_loss: 1.3559 - val_accuracy: 0.4755\n",
      "Epoch 13/30\n",
      "20750/20750 [==============================] - 1686s 81ms/step - loss: 1.1560 - accuracy: 0.5633 - val_loss: 1.3675 - val_accuracy: 0.4938\n",
      "Epoch 14/30\n",
      "20750/20750 [==============================] - 1670s 80ms/step - loss: 1.1363 - accuracy: 0.5732 - val_loss: 1.3742 - val_accuracy: 0.4827\n",
      "Epoch 15/30\n",
      "20750/20750 [==============================] - 1722s 83ms/step - loss: 1.1207 - accuracy: 0.5766 - val_loss: 1.3673 - val_accuracy: 0.4900\n",
      "Epoch 16/30\n",
      "20750/20750 [==============================] - 1691s 81ms/step - loss: 1.1016 - accuracy: 0.5801 - val_loss: 1.3544 - val_accuracy: 0.4877\n",
      "Epoch 17/30\n",
      "20750/20750 [==============================] - 1704s 82ms/step - loss: 1.0856 - accuracy: 0.5881 - val_loss: 1.3672 - val_accuracy: 0.4913\n",
      "Epoch 18/30\n",
      "20750/20750 [==============================] - 1662s 80ms/step - loss: 1.0684 - accuracy: 0.5945 - val_loss: 1.3604 - val_accuracy: 0.4886\n",
      "Epoch 19/30\n",
      "20750/20750 [==============================] - 1689s 81ms/step - loss: 1.0543 - accuracy: 0.5961 - val_loss: 1.3817 - val_accuracy: 0.4848\n",
      "Epoch 20/30\n",
      "20750/20750 [==============================] - 1696s 82ms/step - loss: 1.0357 - accuracy: 0.6089 - val_loss: 1.3579 - val_accuracy: 0.5025\n",
      "Epoch 21/30\n",
      "20750/20750 [==============================] - 1731s 83ms/step - loss: 1.0274 - accuracy: 0.6098 - val_loss: 1.3703 - val_accuracy: 0.4846\n",
      "Epoch 22/30\n",
      "20750/20750 [==============================] - 1697s 82ms/step - loss: 1.0130 - accuracy: 0.6147 - val_loss: 1.3989 - val_accuracy: 0.4865\n",
      "Epoch 23/30\n",
      "20750/20750 [==============================] - 2239s 108ms/step - loss: 1.0028 - accuracy: 0.6176 - val_loss: 1.3727 - val_accuracy: 0.4894\n",
      "Epoch 24/30\n",
      "20750/20750 [==============================] - 2357s 114ms/step - loss: 0.9949 - accuracy: 0.6228 - val_loss: 1.3910 - val_accuracy: 0.4805\n",
      "Epoch 25/30\n",
      "20750/20750 [==============================] - 1826s 88ms/step - loss: 0.9823 - accuracy: 0.6302 - val_loss: 1.4037 - val_accuracy: 0.4956\n",
      "Epoch 26/30\n",
      "20750/20750 [==============================] - 1866s 90ms/step - loss: 0.9724 - accuracy: 0.6286 - val_loss: 1.3879 - val_accuracy: 0.4827\n",
      "Epoch 27/30\n",
      "20750/20750 [==============================] - 1879s 91ms/step - loss: 0.9515 - accuracy: 0.6428 - val_loss: 1.3964 - val_accuracy: 0.4880\n",
      "\n",
      "Epoch 00027: ReduceLROnPlateau reducing learning rate to 0.0005000000237487257.\n",
      "Epoch 28/30\n",
      "20750/20750 [==============================] - 3013s 145ms/step - loss: 0.9106 - accuracy: 0.6533 - val_loss: 1.4002 - val_accuracy: 0.4871\n",
      "Epoch 29/30\n",
      "20750/20750 [==============================] - 1963s 95ms/step - loss: 0.8972 - accuracy: 0.6575 - val_loss: 1.4195 - val_accuracy: 0.4911\n",
      "Epoch 30/30\n",
      "20750/20750 [==============================] - 2295s 111ms/step - loss: 0.8870 - accuracy: 0.6643 - val_loss: 1.4078 - val_accuracy: 0.4919\n"
     ]
    }
   ],
   "source": [
    "#history = model.fit(train_data,train_target,epochs=200,validation_split=0.2)\n",
    "# fit the model for the dataset\n",
    "history = model.fit(train_data, train_target, epochs = epoch, validation_split = 0.2, callbacks = callbacks, verbose=1)"
   ]
  },
  {
   "cell_type": "code",
   "execution_count": 24,
   "metadata": {
    "id": "VIeIJftSJkV8"
   },
   "outputs": [],
   "source": [
    "model.save('model_beta.h5')"
   ]
  },
  {
   "cell_type": "code",
   "execution_count": 25,
   "metadata": {
    "id": "C3VUHVmpJouQ"
   },
   "outputs": [
    {
     "data": {
      "image/png": "[encoded data removed]",
      "text/plain": [
       "<Figure size 432x288 with 1 Axes>"
      ]
     },
     "metadata": {},
     "output_type": "display_data"
    }
   ],
   "source": [
    "# plot the training loss and accuracy\n",
    "N = 30\n",
    "plt.style.use(\"ggplot\")\n",
    "plt.figure()\n",
    "plt.plot(np.arange(0, N), history.history[\"loss\"], label=\"train_loss\")\n",
    "plt.plot(np.arange(0, N), history.history[\"val_loss\"], label=\"val_loss\")\n",
    "plt.plot(np.arange(0, N), history.history[\"accuracy\"], label=\"train_acc\")\n",
    "plt.plot(np.arange(0, N), history.history[\"val_accuracy\"], label=\"val_acc\")\n",
    "plt.title(\"Training Loss and Accuracy\")\n",
    "plt.xlabel(\"Epoch #\")\n",
    "plt.ylabel(\"Loss/Accuracy\")\n",
    "plt.legend(loc=\"center right\")\n",
    "plt.savefig(\"Model\")"
   ]
  },
  {
   "cell_type": "code",
   "execution_count": 36,
   "metadata": {
    "id": "K4zZBo5mJvb7"
   },
   "outputs": [],
   "source": [
    "pred = model.predict(test_data)"
   ]
  },
  {
   "cell_type": "code",
   "execution_count": 28,
   "metadata": {},
   "outputs": [
    {
     "name": "stdout",
     "output_type": "stream",
     "text": [
      "[[4.1725580e-02 1.3651857e-01 3.0713025e-01 ... 1.3838983e-02\n",
      "  1.2699524e-01 9.5695017e-05]\n",
      " [2.7121400e-02 6.9641590e-02 6.4685583e-01 ... 1.2465649e-01\n",
      "  5.2795183e-02 1.1241563e-02]\n",
      " [3.7007769e-05 7.6119775e-01 2.7206810e-02 ... 2.0018364e-01\n",
      "  8.9559378e-03 1.4643254e-03]\n",
      " ...\n",
      " [1.8909566e-01 5.6690371e-01 2.5677271e-02 ... 5.3729612e-02\n",
      "  6.0861364e-02 3.8032387e-03]\n",
      " [8.6033866e-02 3.0295989e-01 1.9112843e-01 ... 3.0526638e-01\n",
      "  8.7209955e-02 2.2576014e-02]\n",
      " [4.4108490e-03 9.5649965e-02 5.6551237e-02 ... 8.1624228e-01\n",
      "  2.6228925e-02 8.6676609e-06]]\n"
     ]
    }
   ],
   "source": [
    "print(pred)"
   ]
  },
  {
   "cell_type": "code",
   "execution_count": 29,
   "metadata": {},
   "outputs": [
    {
     "data": {
      "text/plain": [
       "(2883, 7)"
      ]
     },
     "execution_count": 29,
     "metadata": {},
     "output_type": "execute_result"
    }
   ],
   "source": [
    "pred.shape"
   ]
  },
  {
   "cell_type": "code",
   "execution_count": 30,
   "metadata": {},
   "outputs": [],
   "source": [
    "y = pred.tolist()"
   ]
  },
  {
   "cell_type": "code",
   "execution_count": 33,
   "metadata": {},
   "outputs": [
    {
     "name": "stdout",
     "output_type": "stream",
     "text": [
      "0.30713024735450745\n"
     ]
    }
   ],
   "source": [
    "print(y[0][2])"
   ]
  },
  {
   "cell_type": "code",
   "execution_count": null,
   "metadata": {},
   "outputs": [],
   "source": []
  }
 ],
 "metadata": {
  "accelerator": "GPU",
  "colab": {
   "machine_shape": "hm",
   "name": "ImageClassifierModel.ipynb",
   "provenance": []
  },
  "kernelspec": {
   "display_name": "Python 3 (ipykernel)",
   "language": "python",
   "name": "python3"
  },
  "language_info": {
   "codemirror_mode": {
    "name": "ipython",
    "version": 3
   },
   "file_extension": ".py",
   "mimetype": "text/x-python",
   "name": "python",
   "nbconvert_exporter": "python",
   "pygments_lexer": "ipython3",
   "version": "3.7.7"
  }
 },
 "nbformat": 4,
 "nbformat_minor": 4
}
