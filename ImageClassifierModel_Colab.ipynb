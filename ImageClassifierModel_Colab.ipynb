{
  "nbformat": 4,
  "nbformat_minor": 0,
  "metadata": {
    "colab": {
      "name": "ImageClassifierModel.ipynb",
      "provenance": [],
      "machine_shape": "hm"
    },
    "kernelspec": {
      "name": "python3",
      "display_name": "Python 3"
    },
    "language_info": {
      "name": "python"
    },
    "accelerator": "GPU"
  },
  "cells": [
    {
      "cell_type": "code",
      "execution_count": 1,
      "metadata": {
        "colab": {
          "base_uri": "https://localhost:8080/"
        },
        "id": "ZgsFn8-LH0vU",
        "outputId": "48627242-3783-4fdf-cfaf-e7e2ab891e95"
      },
      "outputs": [
        {
          "output_type": "stream",
          "name": "stdout",
          "text": [
            "Mounted at /content/gdrive\n"
          ]
        }
      ],
      "source": [
        "from google.colab import drive\n",
        "drive.mount('/content/gdrive', force_remount=True)\n",
        "root_dir = \"/content/gdrive/My Drive/\"\n",
        "path = root_dir + 'Colab_Notebooks/CSEE5590_DeepLearning/'"
      ]
    },
    {
      "cell_type": "code",
      "source": [
        "cd /content/gdrive/MyDrive/Colab_Notebooks/CSEE5590_DeepLearning/"
      ],
      "metadata": {
        "colab": {
          "base_uri": "https://localhost:8080/"
        },
        "id": "gNrfrCYRH6A9",
        "outputId": "3ac47563-12cb-4d48-ec29-39579ef001d6"
      },
      "execution_count": 2,
      "outputs": [
        {
          "output_type": "stream",
          "name": "stdout",
          "text": [
            "/content/gdrive/MyDrive/Colab_Notebooks/CSEE5590_DeepLearning\n"
          ]
        }
      ]
    },
    {
      "cell_type": "code",
      "source": [
        "import tensorflow\n",
        "import cv2\n",
        "import os\n",
        "import numpy as np\n",
        "from matplotlib import pyplot as plt\n",
        "\n",
        "from sklearn.model_selection import train_test_split\n",
        "\n",
        "from keras.utils import np_utils\n",
        "from keras.models import Sequential\n",
        "from keras.layers import Dense,Activation,Flatten,Dropout\n",
        "from keras.layers import Conv2D,MaxPooling2D\n",
        "from keras.callbacks import ModelCheckpoint"
      ],
      "metadata": {
        "id": "AH9gHAH7IKuW"
      },
      "execution_count": 3,
      "outputs": []
    },
    {
      "cell_type": "code",
      "source": [
        "data_path = path+'images/train'\n",
        "categories = os.listdir(data_path)\n",
        "labels = [i for i in range(len(categories))]\n",
        "\n",
        "label_dict = dict(zip(categories,labels)) #empty dictionary\n",
        "print(label_dict)\n",
        "print(categories)\n",
        "print(labels)"
      ],
      "metadata": {
        "colab": {
          "base_uri": "https://localhost:8080/"
        },
        "id": "3e4Gg7YLITV_",
        "outputId": "5098b9e5-3e6c-49db-893e-ded23f29509d"
      },
      "execution_count": 4,
      "outputs": [
        {
          "output_type": "stream",
          "name": "stdout",
          "text": [
            "{'angry': 0, 'disgust': 1, 'neutral': 2, 'surprise': 3, 'fear': 4, 'happy': 5, 'sad': 6}\n",
            "['angry', 'disgust', 'neutral', 'surprise', 'fear', 'happy', 'sad']\n",
            "[0, 1, 2, 3, 4, 5, 6]\n"
          ]
        }
      ]
    },
    {
      "cell_type": "code",
      "source": [
        "imsize=100\n",
        "data=[]\n",
        "target=[]\n",
        "\n",
        "for category in categories:\n",
        "    folder_path=os.path.join(data_path,category)\n",
        "    imnames = os.listdir(folder_path)\n",
        "        \n",
        "    for imname in imnames:\n",
        "        impath=os.path.join(folder_path,imname)\n",
        "        img=cv2.imread(impath)\n",
        "\n",
        "        try:  \n",
        "            resized=cv2.resize(img,(imsize,imsize))\n",
        "            #resizing the image  into 100x100, since we need a fixed common size for all the images in the dataset\n",
        "            data.append(resized)\n",
        "            target.append(label_dict[category])\n",
        "            #appending the image and the label(categorized) into the list (dataset)\n",
        "        except Exception as e:\n",
        "            print('Exception:',e)\n",
        "            #if any exception rasied, the exception will be printed here. And pass to the next image"
      ],
      "metadata": {
        "id": "h6T7n7HxIj_M"
      },
      "execution_count": 5,
      "outputs": []
    },
    {
      "cell_type": "code",
      "source": [
        "data = np.array(data)/255.0\n",
        "data = np.reshape(data,(data.shape[0], imsize, imsize,3))\n",
        "target = np.array(target)\n",
        "\n",
        "new_target = np_utils.to_categorical(target)"
      ],
      "metadata": {
        "id": "GdcsLgj3I4lA"
      },
      "execution_count": 6,
      "outputs": []
    },
    {
      "cell_type": "code",
      "source": [
        "new_target.shape"
      ],
      "metadata": {
        "colab": {
          "base_uri": "https://localhost:8080/"
        },
        "id": "anxDiPZ0JI2U",
        "outputId": "31842de2-245c-47d4-f871-22abc964e0ec"
      },
      "execution_count": 7,
      "outputs": [
        {
          "output_type": "execute_result",
          "data": {
            "text/plain": [
              "(29095, 7)"
            ]
          },
          "metadata": {},
          "execution_count": 7
        }
      ]
    },
    {
      "cell_type": "code",
      "source": [
        "data.shape"
      ],
      "metadata": {
        "colab": {
          "base_uri": "https://localhost:8080/"
        },
        "id": "q_-Q6vISJQcf",
        "outputId": "94204d6b-b74e-4b94-e810-536360a00396"
      },
      "execution_count": 8,
      "outputs": [
        {
          "output_type": "execute_result",
          "data": {
            "text/plain": [
              "(29095, 100, 100, 3)"
            ]
          },
          "metadata": {},
          "execution_count": 8
        }
      ]
    },
    {
      "cell_type": "code",
      "source": [
        "model=Sequential()\n",
        "\n",
        "model.add(Conv2D(200,(3,3),input_shape=data.shape[1:]))\n",
        "model.add(Activation('relu'))\n",
        "model.add(MaxPooling2D(pool_size=(2,2)))\n",
        "#The first CNN layer followed by Relu and MaxPooling layers\n",
        "\n",
        "model.add(Conv2D(100,(3,3)))\n",
        "model.add(Activation('relu'))\n",
        "model.add(MaxPooling2D(pool_size=(2,2)))\n",
        "#The second convolution layer followed by Relu and MaxPooling layers\n",
        "\n",
        "model.add(Flatten())\n",
        "model.add(Dropout(0.5))\n",
        "#Flatten layer to stack the output convolutions from second convolution layer\n",
        "model.add(Dense(50,activation='relu'))\n",
        "#Dense layer of 64 neurons\n",
        "model.add(Dense(7,activation='softmax'))\n",
        "#The Final layer with two outputs for two categories\n",
        "\n",
        "model.compile(loss='categorical_crossentropy',optimizer='adam',metrics=['accuracy'])"
      ],
      "metadata": {
        "id": "EtU6BfBQJPpi"
      },
      "execution_count": 9,
      "outputs": []
    },
    {
      "cell_type": "code",
      "source": [
        "model.summary()"
      ],
      "metadata": {
        "colab": {
          "base_uri": "https://localhost:8080/"
        },
        "id": "afKuZPUsJTrR",
        "outputId": "6e2cbdb5-7a93-477f-e589-a18809288a10"
      },
      "execution_count": 10,
      "outputs": [
        {
          "output_type": "stream",
          "name": "stdout",
          "text": [
            "Model: \"sequential\"\n",
            "_________________________________________________________________\n",
            " Layer (type)                Output Shape              Param #   \n",
            "=================================================================\n",
            " conv2d (Conv2D)             (None, 98, 98, 200)       5600      \n",
            "                                                                 \n",
            " activation (Activation)     (None, 98, 98, 200)       0         \n",
            "                                                                 \n",
            " max_pooling2d (MaxPooling2D  (None, 49, 49, 200)      0         \n",
            " )                                                               \n",
            "                                                                 \n",
            " conv2d_1 (Conv2D)           (None, 47, 47, 100)       180100    \n",
            "                                                                 \n",
            " activation_1 (Activation)   (None, 47, 47, 100)       0         \n",
            "                                                                 \n",
            " max_pooling2d_1 (MaxPooling  (None, 23, 23, 100)      0         \n",
            " 2D)                                                             \n",
            "                                                                 \n",
            " flatten (Flatten)           (None, 52900)             0         \n",
            "                                                                 \n",
            " dropout (Dropout)           (None, 52900)             0         \n",
            "                                                                 \n",
            " dense (Dense)               (None, 50)                2645050   \n",
            "                                                                 \n",
            " dense_1 (Dense)             (None, 7)                 357       \n",
            "                                                                 \n",
            "=================================================================\n",
            "Total params: 2,831,107\n",
            "Trainable params: 2,831,107\n",
            "Non-trainable params: 0\n",
            "_________________________________________________________________\n"
          ]
        }
      ]
    },
    {
      "cell_type": "code",
      "source": [
        "train_data, test_data, train_target, test_target = train_test_split(data, new_target, test_size=0.1)"
      ],
      "metadata": {
        "id": "UAgSebpoJVt5"
      },
      "execution_count": 11,
      "outputs": []
    },
    {
      "cell_type": "code",
      "source": [
        "history = model.fit(train_data,train_target,epochs=200,validation_split=0.2)"
      ],
      "metadata": {
        "colab": {
          "base_uri": "https://localhost:8080/"
        },
        "id": "_wstnrbvJfYQ",
        "outputId": "0bd97cdc-0311-48d4-881f-b504c52326c5"
      },
      "execution_count": 12,
      "outputs": [
        {
          "output_type": "stream",
          "name": "stdout",
          "text": [
            "Epoch 1/200\n",
            "655/655 [==============================] - 23s 22ms/step - loss: 1.7828 - accuracy: 0.2695 - val_loss: 1.6960 - val_accuracy: 0.3393\n",
            "Epoch 2/200\n",
            "655/655 [==============================] - 13s 20ms/step - loss: 1.6386 - accuracy: 0.3563 - val_loss: 1.5811 - val_accuracy: 0.3972\n",
            "Epoch 3/200\n",
            "655/655 [==============================] - 13s 20ms/step - loss: 1.5647 - accuracy: 0.3886 - val_loss: 1.5480 - val_accuracy: 0.3958\n",
            "Epoch 4/200\n",
            "655/655 [==============================] - 13s 20ms/step - loss: 1.5111 - accuracy: 0.4130 - val_loss: 1.4956 - val_accuracy: 0.4272\n",
            "Epoch 5/200\n",
            "655/655 [==============================] - 13s 20ms/step - loss: 1.4631 - accuracy: 0.4334 - val_loss: 1.4653 - val_accuracy: 0.4390\n",
            "Epoch 6/200\n",
            "655/655 [==============================] - 13s 20ms/step - loss: 1.4231 - accuracy: 0.4504 - val_loss: 1.4538 - val_accuracy: 0.4329\n",
            "Epoch 7/200\n",
            "655/655 [==============================] - 13s 20ms/step - loss: 1.3897 - accuracy: 0.4670 - val_loss: 1.4370 - val_accuracy: 0.4440\n",
            "Epoch 8/200\n",
            "655/655 [==============================] - 13s 20ms/step - loss: 1.3690 - accuracy: 0.4707 - val_loss: 1.4231 - val_accuracy: 0.4545\n",
            "Epoch 9/200\n",
            "655/655 [==============================] - 13s 20ms/step - loss: 1.3504 - accuracy: 0.4763 - val_loss: 1.4133 - val_accuracy: 0.4575\n",
            "Epoch 10/200\n",
            "655/655 [==============================] - 13s 20ms/step - loss: 1.3274 - accuracy: 0.4876 - val_loss: 1.4429 - val_accuracy: 0.4447\n",
            "Epoch 11/200\n",
            "655/655 [==============================] - 13s 20ms/step - loss: 1.3047 - accuracy: 0.4972 - val_loss: 1.3874 - val_accuracy: 0.4695\n",
            "Epoch 12/200\n",
            "655/655 [==============================] - 13s 20ms/step - loss: 1.2906 - accuracy: 0.5050 - val_loss: 1.3874 - val_accuracy: 0.4667\n",
            "Epoch 13/200\n",
            "655/655 [==============================] - 13s 20ms/step - loss: 1.2722 - accuracy: 0.5082 - val_loss: 1.4048 - val_accuracy: 0.4701\n",
            "Epoch 14/200\n",
            "655/655 [==============================] - 13s 20ms/step - loss: 1.2563 - accuracy: 0.5197 - val_loss: 1.3967 - val_accuracy: 0.4632\n",
            "Epoch 15/200\n",
            "655/655 [==============================] - 13s 20ms/step - loss: 1.2502 - accuracy: 0.5219 - val_loss: 1.3804 - val_accuracy: 0.4867\n",
            "Epoch 16/200\n",
            "655/655 [==============================] - 13s 20ms/step - loss: 1.2283 - accuracy: 0.5294 - val_loss: 1.3895 - val_accuracy: 0.4703\n",
            "Epoch 17/200\n",
            "655/655 [==============================] - 13s 20ms/step - loss: 1.2169 - accuracy: 0.5369 - val_loss: 1.3870 - val_accuracy: 0.4799\n",
            "Epoch 18/200\n",
            "655/655 [==============================] - 13s 20ms/step - loss: 1.2084 - accuracy: 0.5397 - val_loss: 1.3719 - val_accuracy: 0.4812\n",
            "Epoch 19/200\n",
            "655/655 [==============================] - 13s 20ms/step - loss: 1.1909 - accuracy: 0.5415 - val_loss: 1.3747 - val_accuracy: 0.4764\n",
            "Epoch 20/200\n",
            "655/655 [==============================] - 13s 20ms/step - loss: 1.1855 - accuracy: 0.5443 - val_loss: 1.3903 - val_accuracy: 0.4812\n",
            "Epoch 21/200\n",
            "655/655 [==============================] - 13s 20ms/step - loss: 1.1762 - accuracy: 0.5537 - val_loss: 1.4445 - val_accuracy: 0.4707\n",
            "Epoch 22/200\n",
            "655/655 [==============================] - 13s 20ms/step - loss: 1.1721 - accuracy: 0.5520 - val_loss: 1.3878 - val_accuracy: 0.4697\n",
            "Epoch 23/200\n",
            "655/655 [==============================] - 13s 20ms/step - loss: 1.1504 - accuracy: 0.5618 - val_loss: 1.3873 - val_accuracy: 0.4844\n",
            "Epoch 24/200\n",
            "655/655 [==============================] - 13s 20ms/step - loss: 1.1473 - accuracy: 0.5608 - val_loss: 1.3680 - val_accuracy: 0.4762\n",
            "Epoch 25/200\n",
            "655/655 [==============================] - 13s 20ms/step - loss: 1.1383 - accuracy: 0.5622 - val_loss: 1.3621 - val_accuracy: 0.4854\n",
            "Epoch 26/200\n",
            "655/655 [==============================] - 13s 20ms/step - loss: 1.1345 - accuracy: 0.5677 - val_loss: 1.3897 - val_accuracy: 0.4783\n",
            "Epoch 27/200\n",
            "655/655 [==============================] - 13s 20ms/step - loss: 1.1251 - accuracy: 0.5688 - val_loss: 1.3968 - val_accuracy: 0.4667\n",
            "Epoch 28/200\n",
            "655/655 [==============================] - 13s 20ms/step - loss: 1.1169 - accuracy: 0.5732 - val_loss: 1.3886 - val_accuracy: 0.4722\n",
            "Epoch 29/200\n",
            "655/655 [==============================] - 13s 20ms/step - loss: 1.1074 - accuracy: 0.5793 - val_loss: 1.3822 - val_accuracy: 0.4810\n",
            "Epoch 30/200\n",
            "655/655 [==============================] - 13s 20ms/step - loss: 1.1008 - accuracy: 0.5826 - val_loss: 1.3906 - val_accuracy: 0.4745\n",
            "Epoch 31/200\n",
            "655/655 [==============================] - 13s 20ms/step - loss: 1.0929 - accuracy: 0.5822 - val_loss: 1.3916 - val_accuracy: 0.4783\n",
            "Epoch 32/200\n",
            "655/655 [==============================] - 13s 20ms/step - loss: 1.0890 - accuracy: 0.5831 - val_loss: 1.4076 - val_accuracy: 0.4766\n",
            "Epoch 33/200\n",
            "655/655 [==============================] - 13s 20ms/step - loss: 1.0846 - accuracy: 0.5902 - val_loss: 1.3831 - val_accuracy: 0.4743\n",
            "Epoch 34/200\n",
            "655/655 [==============================] - 13s 20ms/step - loss: 1.0819 - accuracy: 0.5897 - val_loss: 1.3998 - val_accuracy: 0.4778\n",
            "Epoch 35/200\n",
            "655/655 [==============================] - 13s 20ms/step - loss: 1.0722 - accuracy: 0.5901 - val_loss: 1.4021 - val_accuracy: 0.4835\n",
            "Epoch 36/200\n",
            "655/655 [==============================] - 13s 20ms/step - loss: 1.0670 - accuracy: 0.5961 - val_loss: 1.4347 - val_accuracy: 0.4812\n",
            "Epoch 37/200\n",
            "655/655 [==============================] - 13s 20ms/step - loss: 1.0665 - accuracy: 0.5934 - val_loss: 1.3970 - val_accuracy: 0.4758\n",
            "Epoch 38/200\n",
            "655/655 [==============================] - 13s 20ms/step - loss: 1.0634 - accuracy: 0.5988 - val_loss: 1.4220 - val_accuracy: 0.4695\n",
            "Epoch 39/200\n",
            "655/655 [==============================] - 13s 20ms/step - loss: 1.0564 - accuracy: 0.5983 - val_loss: 1.4125 - val_accuracy: 0.4812\n",
            "Epoch 40/200\n",
            "655/655 [==============================] - 13s 20ms/step - loss: 1.0555 - accuracy: 0.5981 - val_loss: 1.3991 - val_accuracy: 0.4802\n",
            "Epoch 41/200\n",
            "655/655 [==============================] - 13s 20ms/step - loss: 1.0448 - accuracy: 0.6039 - val_loss: 1.4165 - val_accuracy: 0.4709\n",
            "Epoch 42/200\n",
            "655/655 [==============================] - 13s 20ms/step - loss: 1.0411 - accuracy: 0.6024 - val_loss: 1.4205 - val_accuracy: 0.4772\n",
            "Epoch 43/200\n",
            "655/655 [==============================] - 13s 20ms/step - loss: 1.0314 - accuracy: 0.6075 - val_loss: 1.4204 - val_accuracy: 0.4831\n",
            "Epoch 44/200\n",
            "655/655 [==============================] - 13s 20ms/step - loss: 1.0343 - accuracy: 0.6075 - val_loss: 1.4135 - val_accuracy: 0.4812\n",
            "Epoch 45/200\n",
            "655/655 [==============================] - 13s 20ms/step - loss: 1.0295 - accuracy: 0.6088 - val_loss: 1.4386 - val_accuracy: 0.4791\n",
            "Epoch 46/200\n",
            "655/655 [==============================] - 13s 20ms/step - loss: 1.0116 - accuracy: 0.6164 - val_loss: 1.4277 - val_accuracy: 0.4739\n",
            "Epoch 47/200\n",
            "655/655 [==============================] - 13s 20ms/step - loss: 1.0197 - accuracy: 0.6144 - val_loss: 1.4127 - val_accuracy: 0.4755\n",
            "Epoch 48/200\n",
            "655/655 [==============================] - 13s 20ms/step - loss: 0.9960 - accuracy: 0.6245 - val_loss: 1.4167 - val_accuracy: 0.4745\n",
            "Epoch 49/200\n",
            "655/655 [==============================] - 13s 20ms/step - loss: 0.9977 - accuracy: 0.6228 - val_loss: 1.4311 - val_accuracy: 0.4730\n",
            "Epoch 50/200\n",
            "655/655 [==============================] - 13s 20ms/step - loss: 0.9849 - accuracy: 0.6264 - val_loss: 1.4186 - val_accuracy: 0.4768\n",
            "Epoch 51/200\n",
            "655/655 [==============================] - 13s 20ms/step - loss: 0.9824 - accuracy: 0.6288 - val_loss: 1.4520 - val_accuracy: 0.4791\n",
            "Epoch 52/200\n",
            "655/655 [==============================] - 13s 20ms/step - loss: 0.9760 - accuracy: 0.6287 - val_loss: 1.4791 - val_accuracy: 0.4663\n",
            "Epoch 53/200\n",
            "655/655 [==============================] - 13s 20ms/step - loss: 0.9595 - accuracy: 0.6394 - val_loss: 1.4310 - val_accuracy: 0.4816\n",
            "Epoch 54/200\n",
            "655/655 [==============================] - 13s 20ms/step - loss: 0.9557 - accuracy: 0.6398 - val_loss: 1.4322 - val_accuracy: 0.4860\n",
            "Epoch 55/200\n",
            "655/655 [==============================] - 13s 20ms/step - loss: 0.9494 - accuracy: 0.6424 - val_loss: 1.4269 - val_accuracy: 0.4785\n",
            "Epoch 56/200\n",
            "655/655 [==============================] - 13s 20ms/step - loss: 0.9522 - accuracy: 0.6408 - val_loss: 1.4319 - val_accuracy: 0.4820\n",
            "Epoch 57/200\n",
            "655/655 [==============================] - 13s 20ms/step - loss: 0.9328 - accuracy: 0.6497 - val_loss: 1.4393 - val_accuracy: 0.4848\n",
            "Epoch 58/200\n",
            "655/655 [==============================] - 13s 20ms/step - loss: 0.9380 - accuracy: 0.6432 - val_loss: 1.4522 - val_accuracy: 0.4877\n",
            "Epoch 59/200\n",
            "655/655 [==============================] - 13s 20ms/step - loss: 0.9335 - accuracy: 0.6462 - val_loss: 1.4786 - val_accuracy: 0.4831\n",
            "Epoch 60/200\n",
            "655/655 [==============================] - 13s 20ms/step - loss: 0.9260 - accuracy: 0.6460 - val_loss: 1.4321 - val_accuracy: 0.4869\n",
            "Epoch 61/200\n",
            "655/655 [==============================] - 13s 20ms/step - loss: 0.9207 - accuracy: 0.6543 - val_loss: 1.4404 - val_accuracy: 0.4820\n",
            "Epoch 62/200\n",
            "655/655 [==============================] - 13s 20ms/step - loss: 0.9124 - accuracy: 0.6583 - val_loss: 1.4327 - val_accuracy: 0.4823\n",
            "Epoch 63/200\n",
            "655/655 [==============================] - 13s 20ms/step - loss: 0.9153 - accuracy: 0.6516 - val_loss: 1.4654 - val_accuracy: 0.4904\n",
            "Epoch 64/200\n",
            "655/655 [==============================] - 13s 20ms/step - loss: 0.8983 - accuracy: 0.6590 - val_loss: 1.4738 - val_accuracy: 0.4814\n",
            "Epoch 65/200\n",
            "655/655 [==============================] - 13s 20ms/step - loss: 0.8992 - accuracy: 0.6591 - val_loss: 1.4753 - val_accuracy: 0.4837\n",
            "Epoch 66/200\n",
            "655/655 [==============================] - 13s 20ms/step - loss: 0.8991 - accuracy: 0.6612 - val_loss: 1.4927 - val_accuracy: 0.4785\n",
            "Epoch 67/200\n",
            "655/655 [==============================] - 13s 20ms/step - loss: 0.8915 - accuracy: 0.6681 - val_loss: 1.4535 - val_accuracy: 0.4806\n",
            "Epoch 68/200\n",
            "655/655 [==============================] - 13s 20ms/step - loss: 0.8898 - accuracy: 0.6682 - val_loss: 1.4716 - val_accuracy: 0.4818\n",
            "Epoch 69/200\n",
            "655/655 [==============================] - 13s 20ms/step - loss: 0.8821 - accuracy: 0.6658 - val_loss: 1.4590 - val_accuracy: 0.4833\n",
            "Epoch 70/200\n",
            "655/655 [==============================] - 13s 20ms/step - loss: 0.8865 - accuracy: 0.6696 - val_loss: 1.4853 - val_accuracy: 0.4867\n",
            "Epoch 71/200\n",
            "655/655 [==============================] - 13s 20ms/step - loss: 0.8809 - accuracy: 0.6672 - val_loss: 1.4906 - val_accuracy: 0.4812\n",
            "Epoch 72/200\n",
            "655/655 [==============================] - 13s 20ms/step - loss: 0.8832 - accuracy: 0.6691 - val_loss: 1.4546 - val_accuracy: 0.4892\n",
            "Epoch 73/200\n",
            "655/655 [==============================] - 13s 20ms/step - loss: 0.8743 - accuracy: 0.6716 - val_loss: 1.4942 - val_accuracy: 0.4842\n",
            "Epoch 74/200\n",
            "655/655 [==============================] - 13s 20ms/step - loss: 0.8736 - accuracy: 0.6730 - val_loss: 1.4774 - val_accuracy: 0.4865\n",
            "Epoch 75/200\n",
            "655/655 [==============================] - 13s 20ms/step - loss: 0.8707 - accuracy: 0.6760 - val_loss: 1.4728 - val_accuracy: 0.4823\n",
            "Epoch 76/200\n",
            "655/655 [==============================] - 13s 20ms/step - loss: 0.8742 - accuracy: 0.6742 - val_loss: 1.4652 - val_accuracy: 0.4825\n",
            "Epoch 77/200\n",
            "655/655 [==============================] - 13s 20ms/step - loss: 0.8657 - accuracy: 0.6760 - val_loss: 1.4752 - val_accuracy: 0.4808\n",
            "Epoch 78/200\n",
            "655/655 [==============================] - 13s 20ms/step - loss: 0.8563 - accuracy: 0.6791 - val_loss: 1.5170 - val_accuracy: 0.4779\n",
            "Epoch 79/200\n",
            "655/655 [==============================] - 13s 20ms/step - loss: 0.8607 - accuracy: 0.6825 - val_loss: 1.4958 - val_accuracy: 0.4806\n",
            "Epoch 80/200\n",
            "655/655 [==============================] - 13s 20ms/step - loss: 0.8584 - accuracy: 0.6785 - val_loss: 1.5111 - val_accuracy: 0.4831\n",
            "Epoch 81/200\n",
            "655/655 [==============================] - 13s 20ms/step - loss: 0.8385 - accuracy: 0.6871 - val_loss: 1.5377 - val_accuracy: 0.4745\n",
            "Epoch 82/200\n",
            "655/655 [==============================] - 13s 20ms/step - loss: 0.8411 - accuracy: 0.6871 - val_loss: 1.5073 - val_accuracy: 0.4753\n",
            "Epoch 83/200\n",
            "655/655 [==============================] - 13s 20ms/step - loss: 0.8474 - accuracy: 0.6847 - val_loss: 1.5115 - val_accuracy: 0.4747\n",
            "Epoch 84/200\n",
            "655/655 [==============================] - 13s 20ms/step - loss: 0.8368 - accuracy: 0.6872 - val_loss: 1.5076 - val_accuracy: 0.4779\n",
            "Epoch 85/200\n",
            "655/655 [==============================] - 13s 20ms/step - loss: 0.8335 - accuracy: 0.6857 - val_loss: 1.4717 - val_accuracy: 0.4816\n",
            "Epoch 86/200\n",
            "655/655 [==============================] - 13s 20ms/step - loss: 0.8334 - accuracy: 0.6897 - val_loss: 1.4989 - val_accuracy: 0.4749\n",
            "Epoch 87/200\n",
            "655/655 [==============================] - 13s 20ms/step - loss: 0.8239 - accuracy: 0.6906 - val_loss: 1.5166 - val_accuracy: 0.4837\n",
            "Epoch 88/200\n",
            "655/655 [==============================] - 13s 20ms/step - loss: 0.8227 - accuracy: 0.6945 - val_loss: 1.4900 - val_accuracy: 0.4871\n",
            "Epoch 89/200\n",
            "655/655 [==============================] - 13s 20ms/step - loss: 0.8120 - accuracy: 0.6968 - val_loss: 1.5163 - val_accuracy: 0.4854\n",
            "Epoch 90/200\n",
            "655/655 [==============================] - 13s 20ms/step - loss: 0.8158 - accuracy: 0.6975 - val_loss: 1.5144 - val_accuracy: 0.4827\n",
            "Epoch 91/200\n",
            "655/655 [==============================] - 13s 20ms/step - loss: 0.8136 - accuracy: 0.6971 - val_loss: 1.5389 - val_accuracy: 0.4772\n",
            "Epoch 92/200\n",
            "655/655 [==============================] - 13s 20ms/step - loss: 0.8118 - accuracy: 0.6987 - val_loss: 1.5426 - val_accuracy: 0.4787\n",
            "Epoch 93/200\n",
            "655/655 [==============================] - 13s 20ms/step - loss: 0.8084 - accuracy: 0.6970 - val_loss: 1.5223 - val_accuracy: 0.4863\n",
            "Epoch 94/200\n",
            "655/655 [==============================] - 13s 20ms/step - loss: 0.8065 - accuracy: 0.6981 - val_loss: 1.5422 - val_accuracy: 0.4774\n",
            "Epoch 95/200\n",
            "655/655 [==============================] - 13s 20ms/step - loss: 0.7974 - accuracy: 0.7021 - val_loss: 1.5065 - val_accuracy: 0.4772\n",
            "Epoch 96/200\n",
            "655/655 [==============================] - 13s 20ms/step - loss: 0.7972 - accuracy: 0.7058 - val_loss: 1.4935 - val_accuracy: 0.4850\n",
            "Epoch 97/200\n",
            "655/655 [==============================] - 13s 20ms/step - loss: 0.7948 - accuracy: 0.7076 - val_loss: 1.5344 - val_accuracy: 0.4720\n",
            "Epoch 98/200\n",
            "655/655 [==============================] - 13s 20ms/step - loss: 0.8019 - accuracy: 0.7030 - val_loss: 1.5236 - val_accuracy: 0.4749\n",
            "Epoch 99/200\n",
            "655/655 [==============================] - 13s 20ms/step - loss: 0.7902 - accuracy: 0.7079 - val_loss: 1.5354 - val_accuracy: 0.4776\n",
            "Epoch 100/200\n",
            "655/655 [==============================] - 13s 20ms/step - loss: 0.7937 - accuracy: 0.7026 - val_loss: 1.5386 - val_accuracy: 0.4760\n",
            "Epoch 101/200\n",
            "655/655 [==============================] - 13s 20ms/step - loss: 0.7809 - accuracy: 0.7108 - val_loss: 1.5113 - val_accuracy: 0.4797\n",
            "Epoch 102/200\n",
            "655/655 [==============================] - 13s 20ms/step - loss: 0.7871 - accuracy: 0.7046 - val_loss: 1.5341 - val_accuracy: 0.4753\n",
            "Epoch 103/200\n",
            "655/655 [==============================] - 13s 20ms/step - loss: 0.7809 - accuracy: 0.7112 - val_loss: 1.5789 - val_accuracy: 0.4743\n",
            "Epoch 104/200\n",
            "655/655 [==============================] - 13s 20ms/step - loss: 0.7828 - accuracy: 0.7120 - val_loss: 1.5019 - val_accuracy: 0.4852\n",
            "Epoch 105/200\n",
            "655/655 [==============================] - 13s 20ms/step - loss: 0.7668 - accuracy: 0.7180 - val_loss: 1.5647 - val_accuracy: 0.4753\n",
            "Epoch 106/200\n",
            "655/655 [==============================] - 13s 20ms/step - loss: 0.7685 - accuracy: 0.7177 - val_loss: 1.5274 - val_accuracy: 0.4779\n",
            "Epoch 107/200\n",
            "655/655 [==============================] - 13s 20ms/step - loss: 0.7742 - accuracy: 0.7159 - val_loss: 1.5693 - val_accuracy: 0.4793\n",
            "Epoch 108/200\n",
            "655/655 [==============================] - 13s 20ms/step - loss: 0.7655 - accuracy: 0.7200 - val_loss: 1.5511 - val_accuracy: 0.4751\n",
            "Epoch 109/200\n",
            "655/655 [==============================] - 13s 20ms/step - loss: 0.7663 - accuracy: 0.7149 - val_loss: 1.5105 - val_accuracy: 0.4827\n",
            "Epoch 110/200\n",
            "655/655 [==============================] - 13s 20ms/step - loss: 0.7574 - accuracy: 0.7202 - val_loss: 1.5859 - val_accuracy: 0.4770\n",
            "Epoch 111/200\n",
            "655/655 [==============================] - 13s 20ms/step - loss: 0.7612 - accuracy: 0.7203 - val_loss: 1.5486 - val_accuracy: 0.4779\n",
            "Epoch 112/200\n",
            "655/655 [==============================] - 13s 20ms/step - loss: 0.7570 - accuracy: 0.7204 - val_loss: 1.5214 - val_accuracy: 0.4757\n",
            "Epoch 113/200\n",
            "655/655 [==============================] - 13s 20ms/step - loss: 0.7507 - accuracy: 0.7218 - val_loss: 1.5547 - val_accuracy: 0.4842\n",
            "Epoch 114/200\n",
            "655/655 [==============================] - 13s 20ms/step - loss: 0.7527 - accuracy: 0.7227 - val_loss: 1.5826 - val_accuracy: 0.4760\n",
            "Epoch 115/200\n",
            "655/655 [==============================] - 13s 20ms/step - loss: 0.7519 - accuracy: 0.7252 - val_loss: 1.5749 - val_accuracy: 0.4842\n",
            "Epoch 116/200\n",
            "655/655 [==============================] - 13s 20ms/step - loss: 0.7429 - accuracy: 0.7244 - val_loss: 1.5874 - val_accuracy: 0.4799\n",
            "Epoch 117/200\n",
            "655/655 [==============================] - 13s 20ms/step - loss: 0.7499 - accuracy: 0.7243 - val_loss: 1.5585 - val_accuracy: 0.4789\n",
            "Epoch 118/200\n",
            "655/655 [==============================] - 13s 20ms/step - loss: 0.7462 - accuracy: 0.7236 - val_loss: 1.5413 - val_accuracy: 0.4823\n",
            "Epoch 119/200\n",
            "655/655 [==============================] - 13s 20ms/step - loss: 0.7515 - accuracy: 0.7249 - val_loss: 1.5431 - val_accuracy: 0.4799\n",
            "Epoch 120/200\n",
            "655/655 [==============================] - 13s 20ms/step - loss: 0.7503 - accuracy: 0.7224 - val_loss: 1.5231 - val_accuracy: 0.4844\n",
            "Epoch 121/200\n",
            "655/655 [==============================] - 13s 20ms/step - loss: 0.7388 - accuracy: 0.7268 - val_loss: 1.5706 - val_accuracy: 0.4816\n",
            "Epoch 122/200\n",
            "655/655 [==============================] - 13s 20ms/step - loss: 0.7407 - accuracy: 0.7262 - val_loss: 1.5889 - val_accuracy: 0.4821\n",
            "Epoch 123/200\n",
            "655/655 [==============================] - 13s 20ms/step - loss: 0.7431 - accuracy: 0.7256 - val_loss: 1.5837 - val_accuracy: 0.4739\n",
            "Epoch 124/200\n",
            "655/655 [==============================] - 13s 20ms/step - loss: 0.7305 - accuracy: 0.7330 - val_loss: 1.5369 - val_accuracy: 0.4823\n",
            "Epoch 125/200\n",
            "655/655 [==============================] - 13s 20ms/step - loss: 0.7384 - accuracy: 0.7283 - val_loss: 1.5747 - val_accuracy: 0.4795\n",
            "Epoch 126/200\n",
            "655/655 [==============================] - 13s 20ms/step - loss: 0.7372 - accuracy: 0.7280 - val_loss: 1.5495 - val_accuracy: 0.4772\n",
            "Epoch 127/200\n",
            "655/655 [==============================] - 13s 20ms/step - loss: 0.7235 - accuracy: 0.7346 - val_loss: 1.5389 - val_accuracy: 0.4852\n",
            "Epoch 128/200\n",
            "655/655 [==============================] - 13s 20ms/step - loss: 0.7286 - accuracy: 0.7332 - val_loss: 1.5903 - val_accuracy: 0.4823\n",
            "Epoch 129/200\n",
            "655/655 [==============================] - 13s 20ms/step - loss: 0.7312 - accuracy: 0.7295 - val_loss: 1.5923 - val_accuracy: 0.4831\n",
            "Epoch 130/200\n",
            "655/655 [==============================] - 13s 20ms/step - loss: 0.7316 - accuracy: 0.7327 - val_loss: 1.5446 - val_accuracy: 0.4795\n",
            "Epoch 131/200\n",
            "655/655 [==============================] - 13s 20ms/step - loss: 0.7314 - accuracy: 0.7305 - val_loss: 1.5494 - val_accuracy: 0.4896\n",
            "Epoch 132/200\n",
            "655/655 [==============================] - 13s 20ms/step - loss: 0.7204 - accuracy: 0.7340 - val_loss: 1.5793 - val_accuracy: 0.4776\n",
            "Epoch 133/200\n",
            "655/655 [==============================] - 13s 20ms/step - loss: 0.7215 - accuracy: 0.7308 - val_loss: 1.5972 - val_accuracy: 0.4842\n",
            "Epoch 134/200\n",
            "655/655 [==============================] - 13s 20ms/step - loss: 0.7127 - accuracy: 0.7359 - val_loss: 1.5790 - val_accuracy: 0.4795\n",
            "Epoch 135/200\n",
            "655/655 [==============================] - 13s 20ms/step - loss: 0.7221 - accuracy: 0.7344 - val_loss: 1.5280 - val_accuracy: 0.4810\n",
            "Epoch 136/200\n",
            "655/655 [==============================] - 13s 20ms/step - loss: 0.7126 - accuracy: 0.7396 - val_loss: 1.6078 - val_accuracy: 0.4766\n",
            "Epoch 137/200\n",
            "655/655 [==============================] - 13s 20ms/step - loss: 0.7054 - accuracy: 0.7405 - val_loss: 1.5841 - val_accuracy: 0.4799\n",
            "Epoch 138/200\n",
            "655/655 [==============================] - 13s 20ms/step - loss: 0.7184 - accuracy: 0.7339 - val_loss: 1.5714 - val_accuracy: 0.4852\n",
            "Epoch 139/200\n",
            "655/655 [==============================] - 13s 20ms/step - loss: 0.7093 - accuracy: 0.7391 - val_loss: 1.5951 - val_accuracy: 0.4841\n",
            "Epoch 140/200\n",
            "655/655 [==============================] - 13s 20ms/step - loss: 0.7136 - accuracy: 0.7410 - val_loss: 1.5766 - val_accuracy: 0.4846\n",
            "Epoch 141/200\n",
            "655/655 [==============================] - 13s 20ms/step - loss: 0.7103 - accuracy: 0.7401 - val_loss: 1.6293 - val_accuracy: 0.4800\n",
            "Epoch 142/200\n",
            "655/655 [==============================] - 13s 20ms/step - loss: 0.7147 - accuracy: 0.7349 - val_loss: 1.5668 - val_accuracy: 0.4799\n",
            "Epoch 143/200\n",
            "655/655 [==============================] - 13s 20ms/step - loss: 0.7140 - accuracy: 0.7386 - val_loss: 1.5772 - val_accuracy: 0.4806\n",
            "Epoch 144/200\n",
            "655/655 [==============================] - 13s 20ms/step - loss: 0.7112 - accuracy: 0.7383 - val_loss: 1.6104 - val_accuracy: 0.4812\n",
            "Epoch 145/200\n",
            "655/655 [==============================] - 13s 20ms/step - loss: 0.6997 - accuracy: 0.7416 - val_loss: 1.5698 - val_accuracy: 0.4873\n",
            "Epoch 146/200\n",
            "655/655 [==============================] - 13s 20ms/step - loss: 0.7090 - accuracy: 0.7363 - val_loss: 1.5881 - val_accuracy: 0.4862\n",
            "Epoch 147/200\n",
            "655/655 [==============================] - 13s 20ms/step - loss: 0.7040 - accuracy: 0.7434 - val_loss: 1.5679 - val_accuracy: 0.4833\n",
            "Epoch 148/200\n",
            "655/655 [==============================] - 13s 20ms/step - loss: 0.6995 - accuracy: 0.7439 - val_loss: 1.5576 - val_accuracy: 0.4835\n",
            "Epoch 149/200\n",
            "655/655 [==============================] - 13s 20ms/step - loss: 0.6992 - accuracy: 0.7453 - val_loss: 1.5845 - val_accuracy: 0.4854\n",
            "Epoch 150/200\n",
            "655/655 [==============================] - 13s 20ms/step - loss: 0.7005 - accuracy: 0.7423 - val_loss: 1.6381 - val_accuracy: 0.4802\n",
            "Epoch 151/200\n",
            "655/655 [==============================] - 13s 20ms/step - loss: 0.7010 - accuracy: 0.7471 - val_loss: 1.5885 - val_accuracy: 0.4804\n",
            "Epoch 152/200\n",
            "655/655 [==============================] - 13s 20ms/step - loss: 0.6953 - accuracy: 0.7478 - val_loss: 1.5751 - val_accuracy: 0.4842\n",
            "Epoch 153/200\n",
            "655/655 [==============================] - 13s 20ms/step - loss: 0.6967 - accuracy: 0.7465 - val_loss: 1.6161 - val_accuracy: 0.4804\n",
            "Epoch 154/200\n",
            "655/655 [==============================] - 13s 20ms/step - loss: 0.7038 - accuracy: 0.7430 - val_loss: 1.5877 - val_accuracy: 0.4793\n",
            "Epoch 155/200\n",
            "655/655 [==============================] - 14s 21ms/step - loss: 0.6976 - accuracy: 0.7463 - val_loss: 1.6189 - val_accuracy: 0.4797\n",
            "Epoch 156/200\n",
            "655/655 [==============================] - 14s 21ms/step - loss: 0.6885 - accuracy: 0.7511 - val_loss: 1.6027 - val_accuracy: 0.4802\n",
            "Epoch 157/200\n",
            "655/655 [==============================] - 14s 21ms/step - loss: 0.6855 - accuracy: 0.7481 - val_loss: 1.5699 - val_accuracy: 0.4823\n",
            "Epoch 158/200\n",
            "655/655 [==============================] - 14s 21ms/step - loss: 0.6823 - accuracy: 0.7481 - val_loss: 1.5811 - val_accuracy: 0.4848\n",
            "Epoch 159/200\n",
            "655/655 [==============================] - 14s 21ms/step - loss: 0.6879 - accuracy: 0.7481 - val_loss: 1.6327 - val_accuracy: 0.4837\n",
            "Epoch 160/200\n",
            "655/655 [==============================] - 14s 21ms/step - loss: 0.6838 - accuracy: 0.7467 - val_loss: 1.5984 - val_accuracy: 0.4858\n",
            "Epoch 161/200\n",
            "655/655 [==============================] - 14s 21ms/step - loss: 0.6838 - accuracy: 0.7471 - val_loss: 1.6227 - val_accuracy: 0.4749\n",
            "Epoch 162/200\n",
            "655/655 [==============================] - 14s 21ms/step - loss: 0.6773 - accuracy: 0.7526 - val_loss: 1.6382 - val_accuracy: 0.4829\n",
            "Epoch 163/200\n",
            "655/655 [==============================] - 14s 21ms/step - loss: 0.6870 - accuracy: 0.7458 - val_loss: 1.5940 - val_accuracy: 0.4827\n",
            "Epoch 164/200\n",
            "655/655 [==============================] - 14s 21ms/step - loss: 0.6780 - accuracy: 0.7551 - val_loss: 1.6249 - val_accuracy: 0.4831\n",
            "Epoch 165/200\n",
            "655/655 [==============================] - 14s 21ms/step - loss: 0.6824 - accuracy: 0.7494 - val_loss: 1.5985 - val_accuracy: 0.4778\n",
            "Epoch 166/200\n",
            "655/655 [==============================] - 13s 21ms/step - loss: 0.6781 - accuracy: 0.7501 - val_loss: 1.6142 - val_accuracy: 0.4793\n",
            "Epoch 167/200\n",
            "655/655 [==============================] - 14s 21ms/step - loss: 0.6801 - accuracy: 0.7534 - val_loss: 1.6236 - val_accuracy: 0.4802\n",
            "Epoch 168/200\n",
            "655/655 [==============================] - 14s 21ms/step - loss: 0.6737 - accuracy: 0.7537 - val_loss: 1.6226 - val_accuracy: 0.4841\n",
            "Epoch 169/200\n",
            "655/655 [==============================] - 14s 21ms/step - loss: 0.6845 - accuracy: 0.7499 - val_loss: 1.6051 - val_accuracy: 0.4804\n",
            "Epoch 170/200\n",
            "655/655 [==============================] - 14s 21ms/step - loss: 0.6748 - accuracy: 0.7549 - val_loss: 1.5610 - val_accuracy: 0.4860\n",
            "Epoch 171/200\n",
            "655/655 [==============================] - 13s 21ms/step - loss: 0.6791 - accuracy: 0.7538 - val_loss: 1.5887 - val_accuracy: 0.4820\n",
            "Epoch 172/200\n",
            "655/655 [==============================] - 14s 21ms/step - loss: 0.6760 - accuracy: 0.7511 - val_loss: 1.6018 - val_accuracy: 0.4867\n",
            "Epoch 173/200\n",
            "655/655 [==============================] - 14s 21ms/step - loss: 0.6638 - accuracy: 0.7614 - val_loss: 1.6203 - val_accuracy: 0.4852\n",
            "Epoch 174/200\n",
            "655/655 [==============================] - 14s 21ms/step - loss: 0.6617 - accuracy: 0.7593 - val_loss: 1.6092 - val_accuracy: 0.4837\n",
            "Epoch 175/200\n",
            "655/655 [==============================] - 13s 21ms/step - loss: 0.6684 - accuracy: 0.7546 - val_loss: 1.6412 - val_accuracy: 0.4821\n",
            "Epoch 176/200\n",
            "655/655 [==============================] - 14s 21ms/step - loss: 0.6683 - accuracy: 0.7545 - val_loss: 1.6023 - val_accuracy: 0.4900\n",
            "Epoch 177/200\n",
            "655/655 [==============================] - 13s 21ms/step - loss: 0.6578 - accuracy: 0.7621 - val_loss: 1.6027 - val_accuracy: 0.4831\n",
            "Epoch 178/200\n",
            "655/655 [==============================] - 13s 21ms/step - loss: 0.6671 - accuracy: 0.7581 - val_loss: 1.6405 - val_accuracy: 0.4785\n",
            "Epoch 179/200\n",
            "655/655 [==============================] - 14s 21ms/step - loss: 0.6642 - accuracy: 0.7579 - val_loss: 1.6183 - val_accuracy: 0.4867\n",
            "Epoch 180/200\n",
            "655/655 [==============================] - 14s 21ms/step - loss: 0.6617 - accuracy: 0.7578 - val_loss: 1.6721 - val_accuracy: 0.4886\n",
            "Epoch 181/200\n",
            "655/655 [==============================] - 14s 21ms/step - loss: 0.6576 - accuracy: 0.7603 - val_loss: 1.6093 - val_accuracy: 0.4884\n",
            "Epoch 182/200\n",
            "655/655 [==============================] - 14s 21ms/step - loss: 0.6663 - accuracy: 0.7553 - val_loss: 1.6347 - val_accuracy: 0.4806\n",
            "Epoch 183/200\n",
            "655/655 [==============================] - 14s 21ms/step - loss: 0.6654 - accuracy: 0.7617 - val_loss: 1.6334 - val_accuracy: 0.4860\n",
            "Epoch 184/200\n",
            "655/655 [==============================] - 14s 21ms/step - loss: 0.6574 - accuracy: 0.7627 - val_loss: 1.6447 - val_accuracy: 0.4768\n",
            "Epoch 185/200\n",
            "655/655 [==============================] - 14s 21ms/step - loss: 0.6565 - accuracy: 0.7599 - val_loss: 1.6718 - val_accuracy: 0.4802\n",
            "Epoch 186/200\n",
            "655/655 [==============================] - 14s 21ms/step - loss: 0.6574 - accuracy: 0.7624 - val_loss: 1.6320 - val_accuracy: 0.4860\n",
            "Epoch 187/200\n",
            "655/655 [==============================] - 14s 21ms/step - loss: 0.6532 - accuracy: 0.7628 - val_loss: 1.5973 - val_accuracy: 0.4888\n",
            "Epoch 188/200\n",
            "655/655 [==============================] - 14s 21ms/step - loss: 0.6585 - accuracy: 0.7615 - val_loss: 1.6430 - val_accuracy: 0.4848\n",
            "Epoch 189/200\n",
            "655/655 [==============================] - 14s 21ms/step - loss: 0.6464 - accuracy: 0.7656 - val_loss: 1.6047 - val_accuracy: 0.4787\n",
            "Epoch 190/200\n",
            "655/655 [==============================] - 13s 21ms/step - loss: 0.6527 - accuracy: 0.7640 - val_loss: 1.5842 - val_accuracy: 0.4820\n",
            "Epoch 191/200\n",
            "655/655 [==============================] - 14s 21ms/step - loss: 0.6510 - accuracy: 0.7627 - val_loss: 1.6571 - val_accuracy: 0.4762\n",
            "Epoch 192/200\n",
            "655/655 [==============================] - 14s 21ms/step - loss: 0.6457 - accuracy: 0.7655 - val_loss: 1.6592 - val_accuracy: 0.4783\n",
            "Epoch 193/200\n",
            "655/655 [==============================] - 14s 21ms/step - loss: 0.6544 - accuracy: 0.7634 - val_loss: 1.6829 - val_accuracy: 0.4816\n",
            "Epoch 194/200\n",
            "655/655 [==============================] - 14s 21ms/step - loss: 0.6500 - accuracy: 0.7636 - val_loss: 1.6362 - val_accuracy: 0.4810\n",
            "Epoch 195/200\n",
            "655/655 [==============================] - 14s 21ms/step - loss: 0.6430 - accuracy: 0.7666 - val_loss: 1.6551 - val_accuracy: 0.4841\n",
            "Epoch 196/200\n",
            "655/655 [==============================] - 14s 21ms/step - loss: 0.6393 - accuracy: 0.7665 - val_loss: 1.6530 - val_accuracy: 0.4863\n",
            "Epoch 197/200\n",
            "655/655 [==============================] - 14s 21ms/step - loss: 0.6500 - accuracy: 0.7628 - val_loss: 1.6456 - val_accuracy: 0.4862\n",
            "Epoch 198/200\n",
            "655/655 [==============================] - 14s 21ms/step - loss: 0.6435 - accuracy: 0.7661 - val_loss: 1.6678 - val_accuracy: 0.4865\n",
            "Epoch 199/200\n",
            "655/655 [==============================] - 13s 21ms/step - loss: 0.6357 - accuracy: 0.7671 - val_loss: 1.6708 - val_accuracy: 0.4770\n",
            "Epoch 200/200\n",
            "655/655 [==============================] - 14s 21ms/step - loss: 0.6356 - accuracy: 0.7705 - val_loss: 1.6327 - val_accuracy: 0.4865\n"
          ]
        }
      ]
    },
    {
      "cell_type": "code",
      "source": [
        "model.save('model.h5')"
      ],
      "metadata": {
        "id": "VIeIJftSJkV8"
      },
      "execution_count": 13,
      "outputs": []
    },
    {
      "cell_type": "code",
      "source": [
        "# plot the training loss and accuracy\n",
        "N = 200\n",
        "plt.style.use(\"ggplot\")\n",
        "plt.figure()\n",
        "plt.plot(np.arange(0, N), history.history[\"loss\"], label=\"train_loss\")\n",
        "plt.plot(np.arange(0, N), history.history[\"val_loss\"], label=\"val_loss\")\n",
        "plt.plot(np.arange(0, N), history.history[\"accuracy\"], label=\"train_acc\")\n",
        "plt.plot(np.arange(0, N), history.history[\"val_accuracy\"], label=\"val_acc\")\n",
        "plt.title(\"Training Loss and Accuracy\")\n",
        "plt.xlabel(\"Epoch #\")\n",
        "plt.ylabel(\"Loss/Accuracy\")\n",
        "plt.legend(loc=\"center right\")\n",
        "plt.savefig(\"CNN_Model\")"
      ],
      "metadata": {
        "colab": {
          "base_uri": "https://localhost:8080/",
          "height": 299
        },
        "id": "C3VUHVmpJouQ",
        "outputId": "8335c0d6-15f3-4d7e-aff8-1d0b88a4c6f5"
      },
      "execution_count": 14,
      "outputs": [
        {
          "output_type": "display_data",
          "data": {
            "image/png": "[encoded data removed]",
            "text/plain": [
              "<Figure size 432x288 with 1 Axes>"
            ]
          },
          "metadata": {}
        }
      ]
    },
    {
      "cell_type": "code",
      "source": [
        ""
      ],
      "metadata": {
        "id": "K4zZBo5mJvb7"
      },
      "execution_count": null,
      "outputs": []
    }
  ]
}